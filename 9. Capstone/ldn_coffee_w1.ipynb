{
 "cells": [
  {
   "cell_type": "markdown",
   "metadata": {},
   "source": [
    "Week 1 deliverable"
   ]
  },
  {
   "cell_type": "markdown",
   "metadata": {},
   "source": [
    "Clustering coffee in London"
   ]
  },
  {
   "cell_type": "markdown",
   "metadata": {},
   "source": [
    "<b> 1. Introduction: </b>\n",
    "Having grown up just outside of London I have always been interested in living there. Having already explored New York, my resident city, I would like to analyse London and see where clusters of coffee shops are. \n",
    "\n",
    "<b> 2. Business Problem: </b>\n",
    "By analysing coffee shops in London, the information can be useful for business owners looking to set up a coffe shop and/or expanding a current cafe into a new area. It is also useful for tourists who are looking to go for a coffee in London. It will advise them on where the highest frequency of cafes are. On a personal level, as someone who may move to London, it gives me an idea of places I may want to live.   \n",
    "\n",
    "<b> 3. Data Description: </b>\n",
    "For the London data I will use a combination of the neighborhoods listed on wikipedia: https://en.wikipedia.org/wiki/List_of_areas_of_London, the ARCGIS API to extract the latitude and longitude (geo locations) aswell as the Foursquare API to extract informmation regarding the different venues in the different locations in London. From the venue data from Foursquare we can narrow it down to just coffee shops and cafes."
   ]
  }
 ],
 "metadata": {
  "kernelspec": {
   "display_name": "Python 3",
   "language": "python",
   "name": "python3"
  },
  "language_info": {
   "codemirror_mode": {
    "name": "ipython",
    "version": 3
   },
   "file_extension": ".py",
   "mimetype": "text/x-python",
   "name": "python",
   "nbconvert_exporter": "python",
   "pygments_lexer": "ipython3",
   "version": "3.9.1"
  }
 },
 "nbformat": 4,
 "nbformat_minor": 4
}
