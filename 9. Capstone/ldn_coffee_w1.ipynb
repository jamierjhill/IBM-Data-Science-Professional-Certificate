{
 "cells": [
  {
   "cell_type": "markdown",
   "metadata": {},
   "source": [
    "Week 1 deliverable"
   ]
  },
  {
   "cell_type": "markdown",
   "metadata": {},
   "source": [
    "<b> Clustering coffee in London"
   ]
  },
  {
   "cell_type": "markdown",
   "metadata": {},
   "source": [
    "<b> 1. Introduction: </b>\n",
    "London is undoubtedly one of the most interesting, historic and entertaining cities in the world. It has been the capital of England for over 2000 years and is one of the world's financial and cultural hubs. Having grown up just outside of London I have long been interested in living there. Having already explored New York, my resident city, I would like to analyse London. So what do I want to analyse in London? Easy, tea and coffee. Two staples of my life but also of English people in general. The history of tea stretches all the way back to the early 17th century when the East India Company brought it over from India. Originally a drink for the rich and extravagent, it has transformed into an everyday staple for nearly every British person. Coffee has a sligthly different story and was said to be bought in from the Ottoman Empire, and coffee houses started to appear in the 17th and 18th centuries. Therefore, I will be analysing coffee shops and cafes within the London area. In order to perform this analysis I will combine various data analysis techniques including utilising APIs and clustering. \n",
    "\n",
    "<b> 2. Business Problem: </b>\n",
    "By analysing coffee shops in London, the information can be useful for business owners looking to set up a coffee shop and/or expanding a current cafe into a new area. However, to really determine an optimal location for cafes you will need to do a multi-variate analysis looking at factors such as income per capita, tourst foot fall and rent prices. The frequency of coffee shops is one component that can influence a desision, thus  I have decided to focus on this component. The information is also useful for tourists who are looking to go for a coffee in London. It will advise them on where the highest frequency of cafes are. On a personal level, as someone who may move to London, it gives me an idea of places I may want to live.    \n",
    "\n",
    "<b> 3. Data Description: </b>\n",
    "For the London data I will use a combination of the neighborhoods listed on wikipedia: https://en.wikipedia.org/wiki/List_of_areas_of_London, the ARCGIS API to extract the latitude and longitude (geo locations) aswell as the Foursquare API to extract informmation regarding the different venues in the different locations in London. From the venue data from Foursquare we can narrow it down to just coffee shops and cafes. By combining this data into one single dataframe I am able to analyse, cluster and plot the information in an informative and presentable way. I will be using K-mean clustering algorithm, which is an unsupervised machine learning algorithm that partitions data into n number of clusters. In my analysis I decide on n=5 ie. 5 clusters.\n",
    "<br>I will also be using various packages within Python to help manipulate, analyse and present the data. \n",
    "<br>Pandas : To collect and manipulate data in JSON and HTMl and then be used for data analysis\n",
    "<br>requests : Handle http requests\n",
    "<br>matplotlib : Detailing the generated maps\n",
    "<br>folium : Generating maps of New York\n",
    "<br>sklearn : To import Kmeans which is the machine learning model that we are using"
   ]
  }
 ],
 "metadata": {
  "kernelspec": {
   "display_name": "Python 3",
   "language": "python",
   "name": "python3"
  },
  "language_info": {
   "codemirror_mode": {
    "name": "ipython",
    "version": 3
   },
   "file_extension": ".py",
   "mimetype": "text/x-python",
   "name": "python",
   "nbconvert_exporter": "python",
   "pygments_lexer": "ipython3",
   "version": "3.9.1"
  }
 },
 "nbformat": 4,
 "nbformat_minor": 4
}
